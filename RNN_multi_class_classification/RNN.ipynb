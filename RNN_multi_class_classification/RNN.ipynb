{
 "cells": [
  {
   "cell_type": "code",
   "execution_count": 30,
   "metadata": {},
   "outputs": [
    {
     "data": {
      "text/plain": [
       "'2.2.0'"
      ]
     },
     "execution_count": 30,
     "metadata": {},
     "output_type": "execute_result"
    }
   ],
   "source": [
    "import tensorflow as tf\n",
    "tf.__version__"
   ]
  },
  {
   "cell_type": "code",
   "execution_count": 31,
   "metadata": {},
   "outputs": [
    {
     "data": {
      "text/plain": [
       "'2.3.0-tf'"
      ]
     },
     "execution_count": 31,
     "metadata": {},
     "output_type": "execute_result"
    }
   ],
   "source": [
    "import tensorflow.keras\n",
    "tensorflow.keras.__version__"
   ]
  },
  {
   "cell_type": "code",
   "execution_count": 32,
   "metadata": {},
   "outputs": [],
   "source": [
    "from tensorflow.keras.datasets import reuters\n",
    "\n",
    "(train_data, train_labels), (test_data, test_labels) = reuters.load_data(num_words=10000)"
   ]
  },
  {
   "cell_type": "markdown",
   "metadata": {},
   "source": [
    "IMDB 데이터셋에서처럼 num_words=10000 매개변수는 데이터에서 가장 자주 등장하는 단어 10,000개로 제한합니다.\n",
    "\n",
    "여기에는 8,982개의 훈련 샘플과 2,246개의 테스트 샘플이 있습니다:"
   ]
  },
  {
   "cell_type": "code",
   "execution_count": 33,
   "metadata": {},
   "outputs": [
    {
     "data": {
      "text/plain": [
       "8982"
      ]
     },
     "execution_count": 33,
     "metadata": {},
     "output_type": "execute_result"
    }
   ],
   "source": [
    "len(train_data)"
   ]
  },
  {
   "cell_type": "code",
   "execution_count": 34,
   "metadata": {},
   "outputs": [
    {
     "data": {
      "text/plain": [
       "2246"
      ]
     },
     "execution_count": 34,
     "metadata": {},
     "output_type": "execute_result"
    }
   ],
   "source": [
    "len(test_data)"
   ]
  },
  {
   "cell_type": "markdown",
   "metadata": {},
   "source": [
    "IMDB 리뷰처럼 각 샘플은 정수 리스트입니다(단어 인덱스):"
   ]
  },
  {
   "cell_type": "code",
   "execution_count": 35,
   "metadata": {},
   "outputs": [
    {
     "data": {
      "text/plain": [
       "[1,\n",
       " 245,\n",
       " 273,\n",
       " 207,\n",
       " 156,\n",
       " 53,\n",
       " 74,\n",
       " 160,\n",
       " 26,\n",
       " 14,\n",
       " 46,\n",
       " 296,\n",
       " 26,\n",
       " 39,\n",
       " 74,\n",
       " 2979,\n",
       " 3554,\n",
       " 14,\n",
       " 46,\n",
       " 4689,\n",
       " 4329,\n",
       " 86,\n",
       " 61,\n",
       " 3499,\n",
       " 4795,\n",
       " 14,\n",
       " 61,\n",
       " 451,\n",
       " 4329,\n",
       " 17,\n",
       " 12]"
      ]
     },
     "execution_count": 35,
     "metadata": {},
     "output_type": "execute_result"
    }
   ],
   "source": [
    "train_data[10]"
   ]
  },
  {
   "cell_type": "markdown",
   "metadata": {},
   "source": [
    "궁금한 경우를 위해 어떻게 단어로 디코딩하는지 알아보겠습니다:"
   ]
  },
  {
   "cell_type": "code",
   "execution_count": 36,
   "metadata": {},
   "outputs": [],
   "source": [
    "word_index = reuters.get_word_index()\n",
    "reverse_word_index = dict([(value, key) for (key, value) in word_index.items()])\n",
    "# 0, 1, 2는 '패딩', '문서 시작', '사전에 없음'을 위한 인덱스이므로 3을 뺍니다\n",
    "decoded_newswire = ' '.join([reverse_word_index.get(i - 3, '?') for i in train_data[0]])"
   ]
  },
  {
   "cell_type": "code",
   "execution_count": 37,
   "metadata": {},
   "outputs": [
    {
     "data": {
      "text/plain": [
       "'? ? ? said as a result of its december acquisition of space co it expects earnings per share in 1987 of 1 15 to 1 30 dlrs per share up from 70 cts in 1986 the company said pretax net should rise to nine to 10 mln dlrs from six mln dlrs in 1986 and rental operation revenues to 19 to 22 mln dlrs from 12 5 mln dlrs it said cash flow per share this year should be 2 50 to three dlrs reuter 3'"
      ]
     },
     "execution_count": 37,
     "metadata": {},
     "output_type": "execute_result"
    }
   ],
   "source": [
    "decoded_newswire"
   ]
  },
  {
   "cell_type": "markdown",
   "metadata": {},
   "source": [
    "샘플에 연결된 레이블은 토픽의 인덱스로 0과 45 사이의 정수입니다."
   ]
  },
  {
   "cell_type": "code",
   "execution_count": 38,
   "metadata": {},
   "outputs": [
    {
     "data": {
      "text/plain": [
       "3"
      ]
     },
     "execution_count": 38,
     "metadata": {},
     "output_type": "execute_result"
    }
   ],
   "source": [
    "train_labels[10]"
   ]
  },
  {
   "cell_type": "code",
   "execution_count": 39,
   "metadata": {},
   "outputs": [
    {
     "name": "stdout",
     "output_type": "stream",
     "text": [
      "input_train 크기: (8982, 500)\n",
      "input_test 크기: (2246, 500)\n"
     ]
    }
   ],
   "source": [
    "from tensorflow.keras.preprocessing import sequence\n",
    "maxlen = 500\n",
    "train_data = sequence.pad_sequences(train_data, maxlen=maxlen)\n",
    "test_data = sequence.pad_sequences(test_data, maxlen=maxlen)\n",
    "print('input_train 크기:', train_data.shape)\n",
    "print('input_test 크기:', test_data.shape)"
   ]
  },
  {
   "cell_type": "code",
   "execution_count": 40,
   "metadata": {},
   "outputs": [
    {
     "name": "stdout",
     "output_type": "stream",
     "text": [
      "Epoch 1/10\n",
      "144/144 [==============================] - 19s 134ms/step - loss: 2.5128 - acc: 0.3535 - val_loss: 2.1913 - val_acc: 0.4268\n",
      "Epoch 2/10\n",
      "144/144 [==============================] - 21s 143ms/step - loss: 2.0830 - acc: 0.4632 - val_loss: 2.0236 - val_acc: 0.4791\n",
      "Epoch 3/10\n",
      "144/144 [==============================] - 23s 159ms/step - loss: 1.9879 - acc: 0.4809 - val_loss: 1.9679 - val_acc: 0.4947\n",
      "Epoch 4/10\n",
      "144/144 [==============================] - 31s 212ms/step - loss: 1.8428 - acc: 0.5222 - val_loss: 1.8600 - val_acc: 0.5209\n",
      "Epoch 5/10\n",
      "144/144 [==============================] - 38s 265ms/step - loss: 1.6778 - acc: 0.5617 - val_loss: 1.7639 - val_acc: 0.5431\n",
      "Epoch 6/10\n",
      "144/144 [==============================] - 30s 205ms/step - loss: 1.5445 - acc: 0.6011 - val_loss: 1.8017 - val_acc: 0.5348\n",
      "Epoch 7/10\n",
      "144/144 [==============================] - 24s 168ms/step - loss: 1.3971 - acc: 0.6430 - val_loss: 1.8199 - val_acc: 0.5348\n",
      "Epoch 8/10\n",
      "144/144 [==============================] - 21s 148ms/step - loss: 1.2488 - acc: 0.6863 - val_loss: 1.8581 - val_acc: 0.5298\n",
      "Epoch 9/10\n",
      "144/144 [==============================] - 23s 158ms/step - loss: 1.0925 - acc: 0.7344 - val_loss: 1.9328 - val_acc: 0.5186\n",
      "Epoch 10/10\n",
      "144/144 [==============================] - 28s 193ms/step - loss: 0.9666 - acc: 0.7653 - val_loss: 1.9077 - val_acc: 0.5370\n"
     ]
    }
   ],
   "source": [
    "from tensorflow.keras.models import Sequential\n",
    "from tensorflow.keras.layers import Embedding, SimpleRNN\n",
    "from tensorflow.keras.layers import Dense\n",
    "\n",
    "model = Sequential()\n",
    "model.add(Embedding(10000, 50))\n",
    "model.add(SimpleRNN(50))\n",
    "model.add(Dense(46, activation='softmax'))\n",
    "\n",
    "model.compile(optimizer='rmsprop', loss='sparse_categorical_crossentropy', metrics=['acc'])\n",
    "history = model.fit(train_data, train_labels,\n",
    "                    epochs=10,\n",
    "                    batch_size=50,\n",
    "                    validation_split=0.2)"
   ]
  },
  {
   "cell_type": "code",
   "execution_count": 41,
   "metadata": {},
   "outputs": [],
   "source": [
    "import matplotlib.pyplot as plt"
   ]
  },
  {
   "cell_type": "code",
   "execution_count": 42,
   "metadata": {},
   "outputs": [
    {
     "data": {
      "image/png": "[encoded data removed]",
      "text/plain": [
       "<Figure size 432x288 with 1 Axes>"
      ]
     },
     "metadata": {
      "needs_background": "light"
     },
     "output_type": "display_data"
    },
    {
     "data": {
      "image/png": "[encoded data removed]",
      "text/plain": [
       "<Figure size 432x288 with 1 Axes>"
      ]
     },
     "metadata": {
      "needs_background": "light"
     },
     "output_type": "display_data"
    }
   ],
   "source": [
    "acc = history.history['acc']\n",
    "val_acc = history.history['val_acc']\n",
    "loss = history.history['loss']\n",
    "val_loss = history.history['val_loss']\n",
    "\n",
    "epochs = range(1, len(acc) + 1)\n",
    "\n",
    "plt.plot(epochs, acc, 'bo', label='Training acc')\n",
    "plt.plot(epochs, val_acc, 'b', label='Validation acc')\n",
    "plt.title('Training and validation accuracy')\n",
    "plt.legend()\n",
    "\n",
    "plt.figure()\n",
    "\n",
    "plt.plot(epochs, loss, 'bo', label='Training loss')\n",
    "plt.plot(epochs, val_loss, 'b', label='Validation loss')\n",
    "plt.title('Training and validation loss')\n",
    "plt.legend()\n",
    "\n",
    "plt.show()"
   ]
  },
  {
   "cell_type": "code",
   "execution_count": 43,
   "metadata": {},
   "outputs": [
    {
     "name": "stdout",
     "output_type": "stream",
     "text": [
      "Epoch 1/5\n",
      "144/144 [==============================] - 20s 139ms/step - loss: 2.4935 - acc: 0.3608 - val_loss: 2.2151 - val_acc: 0.4430\n",
      "Epoch 2/5\n",
      "144/144 [==============================] - 24s 165ms/step - loss: 2.1013 - acc: 0.4674 - val_loss: 2.0333 - val_acc: 0.4775\n",
      "Epoch 3/5\n",
      "144/144 [==============================] - 30s 207ms/step - loss: 2.1241 - acc: 0.4536 - val_loss: 2.0190 - val_acc: 0.4769\n",
      "Epoch 4/5\n",
      "144/144 [==============================] - 47s 323ms/step - loss: 1.7912 - acc: 0.5324 - val_loss: 1.8342 - val_acc: 0.5198\n",
      "Epoch 5/5\n",
      "144/144 [==============================] - 30s 212ms/step - loss: 1.6266 - acc: 0.5777 - val_loss: 1.8443 - val_acc: 0.5125\n"
     ]
    }
   ],
   "source": [
    "model = Sequential()\n",
    "model.add(Embedding(10000, 50))\n",
    "model.add(SimpleRNN(50))\n",
    "model.add(Dense(46, activation='softmax'))\n",
    "\n",
    "model.compile(optimizer='rmsprop', loss='sparse_categorical_crossentropy', metrics=['acc'])\n",
    "history = model.fit(train_data, train_labels,\n",
    "                    epochs=5,\n",
    "                    batch_size=50,\n",
    "                    validation_split=0.2)"
   ]
  },
  {
   "cell_type": "code",
   "execution_count": 44,
   "metadata": {},
   "outputs": [
    {
     "name": "stdout",
     "output_type": "stream",
     "text": [
      "Epoch 1/5\n",
      "180/180 [==============================] - 22s 123ms/step - loss: 1.5460 - acc: 0.6075\n",
      "Epoch 2/5\n",
      "180/180 [==============================] - 25s 138ms/step - loss: 1.3983 - acc: 0.6465\n",
      "Epoch 3/5\n",
      "180/180 [==============================] - 29s 161ms/step - loss: 1.2250 - acc: 0.6878\n",
      "Epoch 4/5\n",
      "180/180 [==============================] - 44s 245ms/step - loss: 1.0681 - acc: 0.7302\n",
      "Epoch 5/5\n",
      "180/180 [==============================] - 37s 207ms/step - loss: 0.9282 - acc: 0.7700\n",
      "71/71 [==============================] - 2s 35ms/step - loss: 1.9705 - acc: 0.5374\n"
     ]
    }
   ],
   "source": [
    "model.fit(train_data, train_labels, epochs=5, batch_size=50)\n",
    "results = model.evaluate(test_data, test_labels)"
   ]
  },
  {
   "cell_type": "code",
   "execution_count": 45,
   "metadata": {},
   "outputs": [
    {
     "data": {
      "text/plain": [
       "[1.9705054759979248, 0.5373998284339905]"
      ]
     },
     "execution_count": 45,
     "metadata": {},
     "output_type": "execute_result"
    }
   ],
   "source": [
    "results"
   ]
  },
  {
   "cell_type": "code",
   "execution_count": 46,
   "metadata": {},
   "outputs": [
    {
     "data": {
      "text/plain": [
       "array([[1.28225042e-02, 1.48833513e-01, 2.00021919e-02, ...,\n",
       "        3.61512834e-03, 2.07572407e-03, 1.62864092e-03],\n",
       "       [7.97240902e-03, 1.02870315e-01, 1.76936500e-02, ...,\n",
       "        1.26740588e-02, 4.04357957e-03, 4.16964758e-03],\n",
       "       [9.06775426e-03, 3.69108059e-02, 3.30457687e-02, ...,\n",
       "        1.44817019e-02, 1.64800230e-02, 7.49783358e-03],\n",
       "       ...,\n",
       "       [8.96525671e-06, 5.32511855e-04, 7.04295599e-05, ...,\n",
       "        1.38012720e-05, 1.08017630e-05, 7.59338263e-06],\n",
       "       [1.13922183e-03, 4.61591734e-03, 1.43887103e-03, ...,\n",
       "        1.24078372e-03, 4.40090941e-03, 1.52262452e-03],\n",
       "       [2.14301590e-02, 7.33189732e-02, 2.91542765e-02, ...,\n",
       "        3.35014286e-03, 2.37854407e-03, 6.38165325e-03]], dtype=float32)"
      ]
     },
     "execution_count": 46,
     "metadata": {},
     "output_type": "execute_result"
    }
   ],
   "source": [
    "model.predict(test_data)"
   ]
  },
  {
   "cell_type": "code",
   "execution_count": null,
   "metadata": {},
   "outputs": [],
   "source": []
  }
 ],
 "metadata": {
  "kernelspec": {
   "display_name": "Python 3",
   "language": "python",
   "name": "python3"
  },
  "language_info": {
   "codemirror_mode": {
    "name": "ipython",
    "version": 3
   },
   "file_extension": ".py",
   "mimetype": "text/x-python",
   "name": "python",
   "nbconvert_exporter": "python",
   "pygments_lexer": "ipython3",
   "version": "3.7.6"
  }
 },
 "nbformat": 4,
 "nbformat_minor": 2
}
